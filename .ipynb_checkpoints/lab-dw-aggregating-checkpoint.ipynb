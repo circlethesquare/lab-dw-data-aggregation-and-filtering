{
 "cells": [
  {
   "cell_type": "markdown",
   "id": "31969215-2a90-4d8b-ac36-646a7ae13744",
   "metadata": {
    "id": "31969215-2a90-4d8b-ac36-646a7ae13744"
   },
   "source": [
    "# Lab | Data Aggregation and Filtering"
   ]
  },
  {
   "cell_type": "markdown",
   "id": "a8f08a52-bec0-439b-99cc-11d3809d8b5d",
   "metadata": {
    "id": "a8f08a52-bec0-439b-99cc-11d3809d8b5d"
   },
   "source": [
    "In this challenge, we will continue to work with customer data from an insurance company. We will use the dataset called marketing_customer_analysis.csv, which can be found at the following link:\n",
    "\n",
    "https://raw.githubusercontent.com/data-bootcamp-v4/data/main/marketing_customer_analysis.csv\n",
    "\n",
    "This dataset contains information such as customer demographics, policy details, vehicle information, and the customer's response to the last marketing campaign. Our goal is to explore and analyze this data by first performing data cleaning, formatting, and structuring."
   ]
  },
  {
   "cell_type": "markdown",
   "id": "9c98ddc5-b041-4c94-ada1-4dfee5c98e50",
   "metadata": {
    "id": "9c98ddc5-b041-4c94-ada1-4dfee5c98e50"
   },
   "source": [
    "1. Create a new DataFrame that only includes customers who have a total_claim_amount greater than $1,000 and have a response of \"Yes\" to the last marketing campaign."
   ]
  },
  {
   "cell_type": "markdown",
   "id": "b9be383e-5165-436e-80c8-57d4c757c8c3",
   "metadata": {
    "id": "b9be383e-5165-436e-80c8-57d4c757c8c3"
   },
   "source": [
    "2. Using the original Dataframe, analyze the average total_claim_amount by each policy type and gender for customers who have responded \"Yes\" to the last marketing campaign. Write your conclusions."
   ]
  },
  {
   "cell_type": "markdown",
   "id": "7050f4ac-53c5-4193-a3c0-8699b87196f0",
   "metadata": {
    "id": "7050f4ac-53c5-4193-a3c0-8699b87196f0"
   },
   "source": [
    "3. Analyze the total number of customers who have policies in each state, and then filter the results to only include states where there are more than 500 customers."
   ]
  },
  {
   "cell_type": "markdown",
   "id": "b60a4443-a1a7-4bbf-b78e-9ccdf9895e0d",
   "metadata": {
    "id": "b60a4443-a1a7-4bbf-b78e-9ccdf9895e0d"
   },
   "source": [
    "4. Find the maximum, minimum, and median customer lifetime value by education level and gender. Write your conclusions."
   ]
  },
  {
   "cell_type": "code",
   "execution_count": 1,
   "id": "d03b08fe",
   "metadata": {},
   "outputs": [],
   "source": [
    "import pandas as pd"
   ]
  },
  {
   "cell_type": "code",
   "execution_count": 92,
   "id": "f94fb761",
   "metadata": {},
   "outputs": [
    {
     "data": {
      "text/plain": [
       "0        52\n",
       "1        26\n",
       "2        31\n",
       "3         3\n",
       "4        31\n",
       "         ..\n",
       "10905    40\n",
       "10906    68\n",
       "10907    63\n",
       "10908    27\n",
       "10909     1\n",
       "Name: Months Since Policy Inception, Length: 10910, dtype: int64"
      ]
     },
     "execution_count": 92,
     "metadata": {},
     "output_type": "execute_result"
    }
   ],
   "source": [
    "#calling the data frame and assigning it as marketing_df \n",
    "\n",
    "url = 'https://raw.githubusercontent.com/data-bootcamp-v4/data/main/marketing_customer_analysis.csv'\n",
    "marketing_df = pd.read_csv(url)\n",
    "marketing_df['Months Since Policy Inception']\n"
   ]
  },
  {
   "cell_type": "code",
   "execution_count": 14,
   "id": "8894a48e",
   "metadata": {},
   "outputs": [],
   "source": [
    "# creating a new data frame acc. to question one \n",
    "\n",
    "new_df = marketing_df[(marketing_df['Total Claim Amount'] > 1000) & (marketing_df['Response'] == 'Yes')]"
   ]
  },
  {
   "cell_type": "code",
   "execution_count": 31,
   "id": "5e3b2cb9",
   "metadata": {},
   "outputs": [],
   "source": [
    "#2Using the original Dataframe, analyze the average total_claim_amount by each policy type and gender \n",
    "#for customers who have responded \"Yes\" to the last marketing campaign. Write your conclusions.\n",
    "\n",
    "grouped_df = marketing_df[marketing_df['Response'] == 'Yes'].groupby([\"Policy Type\",\"Gender\"])[\"Total Claim Amount\"].mean().reset_index().round(1)"
   ]
  },
  {
   "cell_type": "code",
   "execution_count": 76,
   "id": "e20a8b76",
   "metadata": {},
   "outputs": [],
   "source": [
    "#Analyze the total number of customers who have policies in each state, and then filter the results \n",
    "#to only include \n",
    "#states where there are more than 500 customers.\n",
    "\n",
    "grouped2_df = marketing_df.groupby('State')['Customer'].count().reset_index()\n"
   ]
  },
  {
   "cell_type": "code",
   "execution_count": 82,
   "id": "ad1adeea",
   "metadata": {},
   "outputs": [
    {
     "data": {
      "text/html": [
       "<div>\n",
       "<style scoped>\n",
       "    .dataframe tbody tr th:only-of-type {\n",
       "        vertical-align: middle;\n",
       "    }\n",
       "\n",
       "    .dataframe tbody tr th {\n",
       "        vertical-align: top;\n",
       "    }\n",
       "\n",
       "    .dataframe thead th {\n",
       "        text-align: right;\n",
       "    }\n",
       "</style>\n",
       "<table border=\"1\" class=\"dataframe\">\n",
       "  <thead>\n",
       "    <tr style=\"text-align: right;\">\n",
       "      <th></th>\n",
       "      <th></th>\n",
       "      <th>count</th>\n",
       "      <th>mean</th>\n",
       "      <th>std</th>\n",
       "      <th>min</th>\n",
       "      <th>25%</th>\n",
       "      <th>50%</th>\n",
       "      <th>75%</th>\n",
       "      <th>max</th>\n",
       "    </tr>\n",
       "    <tr>\n",
       "      <th>Education</th>\n",
       "      <th>Gender</th>\n",
       "      <th></th>\n",
       "      <th></th>\n",
       "      <th></th>\n",
       "      <th></th>\n",
       "      <th></th>\n",
       "      <th></th>\n",
       "      <th></th>\n",
       "      <th></th>\n",
       "    </tr>\n",
       "  </thead>\n",
       "  <tbody>\n",
       "    <tr>\n",
       "      <th rowspan=\"2\" valign=\"top\">Bachelor</th>\n",
       "      <th>F</th>\n",
       "      <td>1700.0</td>\n",
       "      <td>7874.27</td>\n",
       "      <td>6614.11</td>\n",
       "      <td>1904.00</td>\n",
       "      <td>4118.59</td>\n",
       "      <td>5640.51</td>\n",
       "      <td>8723.24</td>\n",
       "      <td>73225.96</td>\n",
       "    </tr>\n",
       "    <tr>\n",
       "      <th>M</th>\n",
       "      <td>1572.0</td>\n",
       "      <td>7703.60</td>\n",
       "      <td>6658.46</td>\n",
       "      <td>1898.01</td>\n",
       "      <td>3842.35</td>\n",
       "      <td>5548.03</td>\n",
       "      <td>8646.70</td>\n",
       "      <td>67907.27</td>\n",
       "    </tr>\n",
       "    <tr>\n",
       "      <th rowspan=\"2\" valign=\"top\">College</th>\n",
       "      <th>F</th>\n",
       "      <td>1608.0</td>\n",
       "      <td>7748.82</td>\n",
       "      <td>6678.30</td>\n",
       "      <td>1898.68</td>\n",
       "      <td>3866.80</td>\n",
       "      <td>5623.61</td>\n",
       "      <td>8714.92</td>\n",
       "      <td>61850.19</td>\n",
       "    </tr>\n",
       "    <tr>\n",
       "      <th>M</th>\n",
       "      <td>1596.0</td>\n",
       "      <td>8052.46</td>\n",
       "      <td>6716.96</td>\n",
       "      <td>1918.12</td>\n",
       "      <td>4035.90</td>\n",
       "      <td>6005.85</td>\n",
       "      <td>9157.76</td>\n",
       "      <td>61134.68</td>\n",
       "    </tr>\n",
       "    <tr>\n",
       "      <th rowspan=\"2\" valign=\"top\">Doctor</th>\n",
       "      <th>F</th>\n",
       "      <td>200.0</td>\n",
       "      <td>7328.51</td>\n",
       "      <td>6930.56</td>\n",
       "      <td>2395.57</td>\n",
       "      <td>3531.28</td>\n",
       "      <td>5332.46</td>\n",
       "      <td>7662.70</td>\n",
       "      <td>44856.11</td>\n",
       "    </tr>\n",
       "    <tr>\n",
       "      <th>M</th>\n",
       "      <td>201.0</td>\n",
       "      <td>7415.33</td>\n",
       "      <td>5460.94</td>\n",
       "      <td>2267.60</td>\n",
       "      <td>3557.37</td>\n",
       "      <td>5577.67</td>\n",
       "      <td>8828.38</td>\n",
       "      <td>32677.34</td>\n",
       "    </tr>\n",
       "    <tr>\n",
       "      <th rowspan=\"2\" valign=\"top\">High School or Below</th>\n",
       "      <th>F</th>\n",
       "      <td>1590.0</td>\n",
       "      <td>8675.22</td>\n",
       "      <td>7497.85</td>\n",
       "      <td>2144.92</td>\n",
       "      <td>4158.28</td>\n",
       "      <td>6039.55</td>\n",
       "      <td>9457.34</td>\n",
       "      <td>55277.45</td>\n",
       "    </tr>\n",
       "    <tr>\n",
       "      <th>M</th>\n",
       "      <td>1556.0</td>\n",
       "      <td>8149.69</td>\n",
       "      <td>7190.62</td>\n",
       "      <td>1940.98</td>\n",
       "      <td>4197.68</td>\n",
       "      <td>6286.73</td>\n",
       "      <td>9002.19</td>\n",
       "      <td>83325.38</td>\n",
       "    </tr>\n",
       "    <tr>\n",
       "      <th rowspan=\"2\" valign=\"top\">Master</th>\n",
       "      <th>F</th>\n",
       "      <td>475.0</td>\n",
       "      <td>8157.05</td>\n",
       "      <td>6621.77</td>\n",
       "      <td>2417.78</td>\n",
       "      <td>4061.87</td>\n",
       "      <td>5729.86</td>\n",
       "      <td>9264.04</td>\n",
       "      <td>51016.07</td>\n",
       "    </tr>\n",
       "    <tr>\n",
       "      <th>M</th>\n",
       "      <td>412.0</td>\n",
       "      <td>8168.83</td>\n",
       "      <td>7362.16</td>\n",
       "      <td>2272.31</td>\n",
       "      <td>3933.03</td>\n",
       "      <td>5579.10</td>\n",
       "      <td>9031.08</td>\n",
       "      <td>50568.26</td>\n",
       "    </tr>\n",
       "  </tbody>\n",
       "</table>\n",
       "</div>"
      ],
      "text/plain": [
       "                              count     mean      std      min      25%  \\\n",
       "Education            Gender                                               \n",
       "Bachelor             F       1700.0  7874.27  6614.11  1904.00  4118.59   \n",
       "                     M       1572.0  7703.60  6658.46  1898.01  3842.35   \n",
       "College              F       1608.0  7748.82  6678.30  1898.68  3866.80   \n",
       "                     M       1596.0  8052.46  6716.96  1918.12  4035.90   \n",
       "Doctor               F        200.0  7328.51  6930.56  2395.57  3531.28   \n",
       "                     M        201.0  7415.33  5460.94  2267.60  3557.37   \n",
       "High School or Below F       1590.0  8675.22  7497.85  2144.92  4158.28   \n",
       "                     M       1556.0  8149.69  7190.62  1940.98  4197.68   \n",
       "Master               F        475.0  8157.05  6621.77  2417.78  4061.87   \n",
       "                     M        412.0  8168.83  7362.16  2272.31  3933.03   \n",
       "\n",
       "                                 50%      75%       max  \n",
       "Education            Gender                              \n",
       "Bachelor             F       5640.51  8723.24  73225.96  \n",
       "                     M       5548.03  8646.70  67907.27  \n",
       "College              F       5623.61  8714.92  61850.19  \n",
       "                     M       6005.85  9157.76  61134.68  \n",
       "Doctor               F       5332.46  7662.70  44856.11  \n",
       "                     M       5577.67  8828.38  32677.34  \n",
       "High School or Below F       6039.55  9457.34  55277.45  \n",
       "                     M       6286.73  9002.19  83325.38  \n",
       "Master               F       5729.86  9264.04  51016.07  \n",
       "                     M       5579.10  9031.08  50568.26  "
      ]
     },
     "execution_count": 82,
     "metadata": {},
     "output_type": "execute_result"
    }
   ],
   "source": [
    "#4. Find the maximum, minimum, and median customer lifetime value by education level and gender. \n",
    "#Write your conclusions.\n",
    "\n",
    "grouped3_df = marketing_df.groupby(['Education','Gender'])['Customer Lifetime Value'].describe().round(2)\n",
    "grouped3_df"
   ]
  },
  {
   "cell_type": "markdown",
   "id": "b42999f9-311f-481e-ae63-40a5577072c5",
   "metadata": {
    "id": "b42999f9-311f-481e-ae63-40a5577072c5"
   },
   "source": [
    "## Bonus"
   ]
  },
  {
   "cell_type": "markdown",
   "id": "81ff02c5-6584-4f21-a358-b918697c6432",
   "metadata": {
    "id": "81ff02c5-6584-4f21-a358-b918697c6432"
   },
   "source": [
    "5. The marketing team wants to analyze the number of policies sold by state and month. Present the data in a table where the months are arranged as columns and the states are arranged as rows."
   ]
  },
  {
   "cell_type": "code",
   "execution_count": 94,
   "id": "51a321bc",
   "metadata": {},
   "outputs": [
    {
     "ename": "IndentationError",
     "evalue": "unindent does not match any outer indentation level (<tokenize>, line 5)",
     "output_type": "error",
     "traceback": [
      "\u001b[0;36m  File \u001b[0;32m<tokenize>:5\u001b[0;36m\u001b[0m\n\u001b[0;31m    ).round(1)\u001b[0m\n\u001b[0m    ^\u001b[0m\n\u001b[0;31mIndentationError\u001b[0m\u001b[0;31m:\u001b[0m unindent does not match any outer indentation level\n"
     ]
    }
   ],
   "source": [
    "#marketing_df.pivot_table(index='State',\n",
    "                         columns='Month',\n",
    "                         values='Number of Policies',\n",
    "                         aggfunc= 'sum'\n",
    "                        ).round(1)"
   ]
  },
  {
   "cell_type": "markdown",
   "id": "b6aec097-c633-4017-a125-e77a97259cda",
   "metadata": {
    "id": "b6aec097-c633-4017-a125-e77a97259cda"
   },
   "source": [
    "6.  Display a new DataFrame that contains the number of policies sold by month, by state, for the top 3 states with the highest number of policies sold.\n",
    "\n",
    "*Hint:*\n",
    "- *To accomplish this, you will first need to group the data by state and month, then count the number of policies sold for each group. Afterwards, you will need to sort the data by the count of policies sold in descending order.*\n",
    "- *Next, you will select the top 3 states with the highest number of policies sold.*\n",
    "- *Finally, you will create a new DataFrame that contains the number of policies sold by month for each of the top 3 states.*"
   ]
  },
  {
   "cell_type": "markdown",
   "id": "ba975b8a-a2cf-4fbf-9f59-ebc381767009",
   "metadata": {
    "id": "ba975b8a-a2cf-4fbf-9f59-ebc381767009"
   },
   "source": [
    "7. The marketing team wants to analyze the effect of different marketing channels on the customer response rate.\n",
    "\n",
    "Hint: You can use melt to unpivot the data and create a table that shows the customer response rate (those who responded \"Yes\") by marketing channel."
   ]
  },
  {
   "cell_type": "markdown",
   "id": "e4378d94-48fb-4850-a802-b1bc8f427b2d",
   "metadata": {
    "id": "e4378d94-48fb-4850-a802-b1bc8f427b2d"
   },
   "source": [
    "External Resources for Data Filtering: https://towardsdatascience.com/filtering-data-frames-in-pandas-b570b1f834b9"
   ]
  },
  {
   "cell_type": "code",
   "execution_count": null,
   "id": "449513f4-0459-46a0-a18d-9398d974c9ad",
   "metadata": {
    "id": "449513f4-0459-46a0-a18d-9398d974c9ad"
   },
   "outputs": [],
   "source": [
    "# your code goes here"
   ]
  }
 ],
 "metadata": {
  "colab": {
   "provenance": []
  },
  "kernelspec": {
   "display_name": "Python 3 (ipykernel)",
   "language": "python",
   "name": "python3"
  },
  "language_info": {
   "codemirror_mode": {
    "name": "ipython",
    "version": 3
   },
   "file_extension": ".py",
   "mimetype": "text/x-python",
   "name": "python",
   "nbconvert_exporter": "python",
   "pygments_lexer": "ipython3",
   "version": "3.11.5"
  }
 },
 "nbformat": 4,
 "nbformat_minor": 5
}
